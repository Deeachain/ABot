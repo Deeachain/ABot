{
 "cells": [
  {
   "cell_type": "code",
   "execution_count": 1,
   "metadata": {},
   "outputs": [
    {
     "data": {
      "text/plain": [
       "['/home/xiaohan/anaconda3/envs/Socogdl/lib/python3.6/site-packages/ipykernel_launcher.py',\n",
       " '-f',\n",
       " '/home/xiaohan/.local/share/jupyter/runtime/kernel-428fdf04-f28f-494f-9182-260ade67cbfd.json']"
      ]
     },
     "execution_count": 1,
     "metadata": {},
     "output_type": "execute_result"
    }
   ],
   "source": [
    "import sys\n",
    "sys.argv"
   ]
  },
  {
   "cell_type": "code",
   "execution_count": 7,
   "metadata": {},
   "outputs": [
    {
     "name": "stdout",
     "output_type": "stream",
     "text": [
      "\u001b[1m\u001b[37msupermicro         \u001b[m  Fri Nov 15 21:47:13 2019  \u001b[1m\u001b[30m396.37\u001b[m\r\n",
      "\u001b[36m[0]\u001b[m \u001b[34mTITAN X (Pascal)\u001b[m |\u001b[31m 27'C\u001b[m, \u001b[32m  0 %\u001b[m | \u001b[36m\u001b[1m\u001b[33m 1249\u001b[m / \u001b[33m12196\u001b[m MB | \u001b[1m\u001b[30mjinze\u001b[m(\u001b[33m1239M\u001b[m)\r\n",
      "\u001b[36m[1]\u001b[m \u001b[34mTITAN X (Pascal)\u001b[m |\u001b[1m\u001b[31m 71'C\u001b[m, \u001b[1m\u001b[32m 99 %\u001b[m | \u001b[36m\u001b[1m\u001b[33m 6965\u001b[m / \u001b[33m12196\u001b[m MB | \u001b[1m\u001b[30mguangxuan\u001b[m(\u001b[33m6955M\u001b[m)\r\n",
      "\u001b[36m[2]\u001b[m \u001b[34mTITAN X (Pascal)\u001b[m |\u001b[31m 22'C\u001b[m, \u001b[32m  0 %\u001b[m | \u001b[36m\u001b[1m\u001b[33m  225\u001b[m / \u001b[33m12196\u001b[m MB | \u001b[1m\u001b[30mjinze\u001b[m(\u001b[33m215M\u001b[m)\r\n",
      "\u001b[36m[3]\u001b[m \u001b[34mTITAN X (Pascal)\u001b[m |\u001b[31m 24'C\u001b[m, \u001b[32m  0 %\u001b[m | \u001b[36m\u001b[1m\u001b[33m  225\u001b[m / \u001b[33m12196\u001b[m MB | \u001b[1m\u001b[30mjinze\u001b[m(\u001b[33m215M\u001b[m)\r\n",
      "\u001b[36m[4]\u001b[m \u001b[34mTITAN X (Pascal)\u001b[m |\u001b[31m 23'C\u001b[m, \u001b[32m  0 %\u001b[m | \u001b[36m\u001b[1m\u001b[33m  225\u001b[m / \u001b[33m12196\u001b[m MB | \u001b[1m\u001b[30mjinze\u001b[m(\u001b[33m215M\u001b[m)\r\n",
      "\u001b[36m[5]\u001b[m \u001b[34mTITAN X (Pascal)\u001b[m |\u001b[31m 29'C\u001b[m, \u001b[32m  0 %\u001b[m | \u001b[36m\u001b[1m\u001b[33m    0\u001b[m / \u001b[33m12196\u001b[m MB |\r\n",
      "\u001b[36m[6]\u001b[m \u001b[34mTITAN X (Pascal)\u001b[m |\u001b[31m 31'C\u001b[m, \u001b[32m  0 %\u001b[m | \u001b[36m\u001b[1m\u001b[33m    0\u001b[m / \u001b[33m12196\u001b[m MB |\r\n",
      "\u001b[36m[7]\u001b[m \u001b[34mTITAN X (Pascal)\u001b[m |\u001b[31m 28'C\u001b[m, \u001b[32m  3 %\u001b[m | \u001b[36m\u001b[1m\u001b[33m    0\u001b[m / \u001b[33m12196\u001b[m MB |\r\n"
     ]
    }
   ],
   "source": [
    "!gpustat"
   ]
  },
  {
   "cell_type": "code",
   "execution_count": 9,
   "metadata": {},
   "outputs": [
    {
     "name": "stdout",
     "output_type": "stream",
     "text": [
      "Namespace(cpu=False, dataset=['ltc'], device_id=[0], hidden_size=128, lr=0.01, max_epoch=10000, model=['prone'], mu=0.2, negative_ratio=5, patience=100, save_dir='.', seed=[1], step=5, task='link_prediction', theta=0.5, weight_decay=0.0005)\n",
      "num_workers 1\n",
      "neg 0.01588892936706543\n",
      "svd sparse 4.675890365847224e-05\n",
      "sparsesvd time 3.6869730949401855\n",
      "Chebyshev Series -----------------\n",
      "Bessell time 2 0.23944878578186035\n",
      "Bessell time 3 0.3587932586669922\n",
      "Bessell time 4 0.47054266929626465\n",
      "densesvd time 0.24196720123291016\n",
      "sparse NE time 3.7501022815704346\n",
      "spectral Pro time 0.7726278305053711\n",
      "Test ROC-AUC = 0.9238, F1 = 0.8612, PR-AUC = 0.9466\n",
      "| Variant          | ROC_AUC       | PR_AUC        | F1            |\n",
      "|------------------|---------------|---------------|---------------|\n",
      "| ('ltc', 'prone') | 0.9238±0.0000 | 0.9466±0.0000 | 0.8612±0.0000 |\n"
     ]
    }
   ],
   "source": [
    "!python train.py --task link_prediction --dataset ltc --model prone"
   ]
  },
  {
   "cell_type": "markdown",
   "metadata": {},
   "source": [
    "### Test on new division of dataset"
   ]
  },
  {
   "cell_type": "code",
   "execution_count": 8,
   "metadata": {},
   "outputs": [
    {
     "name": "stdout",
     "output_type": "stream",
     "text": [
      "Namespace(cpu=False, dataset=['ltc'], device_id=[0], hidden_size=128, lr=0.01, max_epoch=10000, model=['prone'], mu=0.2, negative_ratio=5, patience=100, save_dir='.', seed=[1], sep_point=4, step=5, task='to_follow2', theta=0.5, weight_decay=0.0005)\n",
      "num_workers 1\n",
      "4\n",
      "62673\n",
      "210711\n",
      "23 23\n",
      "number of nodes(now): 62673\n",
      "number of edges(now): 202108\n",
      "number of nodes(future): 62673\n",
      "number of edges(future): 202131\n",
      "begin training for embs\n",
      "neg 0.014705657958984375\n",
      "svd sparse 5.145440219487553e-05\n",
      "sparsesvd time 3.981903553009033\n",
      "Chebyshev Series -----------------\n",
      "Bessell time 2 0.2640373706817627\n",
      "Bessell time 3 0.3785676956176758\n",
      "Bessell time 4 0.4913177490234375\n",
      "densesvd time 0.26395535469055176\n",
      "sparse NE time 4.052814722061157\n",
      "spectral Pro time 0.808427095413208\n",
      "Test ROC-AUC = 0.5728, F1 = 0.5652, PR-AUC = 0.5880\n",
      "| Variant          | ROC_AUC       | PR_AUC        | F1            |\n",
      "|------------------|---------------|---------------|---------------|\n",
      "| ('ltc', 'prone') | 0.5728±0.0000 | 0.5880±0.0000 | 0.5652±0.0000 |\n"
     ]
    }
   ],
   "source": [
    "!python train.py --task to_follow2 --dataset ltc --model prone --sep_point 4"
   ]
  },
  {
   "cell_type": "code",
   "execution_count": 6,
   "metadata": {},
   "outputs": [
    {
     "name": "stdout",
     "output_type": "stream",
     "text": [
      "Namespace(cpu=False, dataset=['ltc'], device_id=[0], hidden_size=128, lr=0.01, max_epoch=10000, model=['prone'], mu=0.2, negative_ratio=5, patience=100, save_dir='.', seed=[1], sep_point=3, step=5, task='to_follow2', theta=0.5, weight_decay=0.0005)\n",
      "num_workers 1\n",
      "3\n",
      "62510\n",
      "210711\n",
      "91 91\n",
      "number of nodes(now): 62510\n",
      "number of edges(now): 200251\n",
      "number of nodes(future): 62510\n",
      "number of edges(future): 200342\n",
      "begin training for embs\n",
      "neg 0.014776468276977539\n",
      "svd sparse 5.1247855374335116e-05\n",
      "sparsesvd time 3.8726449012756348\n",
      "Chebyshev Series -----------------\n",
      "Bessell time 2 0.3583204746246338\n",
      "Bessell time 3 0.5069105625152588\n",
      "Bessell time 4 0.6574187278747559\n",
      "densesvd time 0.25953078269958496\n",
      "sparse NE time 3.911468982696533\n",
      "spectral Pro time 0.9924051761627197\n",
      "Test ROC-AUC = 0.5720, F1 = 0.5604, PR-AUC = 0.5651\n",
      "| Variant          | ROC_AUC       | PR_AUC        | F1            |\n",
      "|------------------|---------------|---------------|---------------|\n",
      "| ('ltc', 'prone') | 0.5720±0.0000 | 0.5651±0.0000 | 0.5604±0.0000 |\n"
     ]
    }
   ],
   "source": [
    "## if (t==time+1 or (time==-1 and t==3)) and u in nodes and v in nodes:\n",
    "#   if stamp>t\n",
    "!python train.py --task to_follow2 --dataset ltc --model prone --sep_point 3"
   ]
  },
  {
   "cell_type": "code",
   "execution_count": null,
   "metadata": {},
   "outputs": [],
   "source": []
  }
 ],
 "metadata": {
  "kernelspec": {
   "display_name": "Python 3",
   "language": "python",
   "name": "python3"
  },
  "language_info": {
   "codemirror_mode": {
    "name": "ipython",
    "version": 3
   },
   "file_extension": ".py",
   "mimetype": "text/x-python",
   "name": "python",
   "nbconvert_exporter": "python",
   "pygments_lexer": "ipython3",
   "version": "3.7.3"
  }
 },
 "nbformat": 4,
 "nbformat_minor": 2
}
